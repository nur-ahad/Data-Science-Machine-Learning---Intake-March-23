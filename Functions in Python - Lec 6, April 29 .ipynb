{
 "cells": [
  {
   "cell_type": "code",
   "execution_count": 3,
   "id": "a94deb21",
   "metadata": {},
   "outputs": [],
   "source": [
    "#Defining Function \n",
    "\n",
    "def simple():\n",
    "    print (\"My firs function\")"
   ]
  },
  {
   "cell_type": "code",
   "execution_count": 4,
   "id": "c3139161",
   "metadata": {},
   "outputs": [],
   "source": [
    "def name():\n",
    "    print (\"His name is John\")"
   ]
  },
  {
   "cell_type": "code",
   "execution_count": 5,
   "id": "5343c7e8",
   "metadata": {},
   "outputs": [
    {
     "name": "stdout",
     "output_type": "stream",
     "text": [
      "His name is John\n"
     ]
    }
   ],
   "source": [
    "name()"
   ]
  },
  {
   "cell_type": "code",
   "execution_count": 6,
   "id": "39528726",
   "metadata": {},
   "outputs": [],
   "source": [
    "#Function without Parameters \n",
    "\n",
    "def degree():\n",
    "    print (\"MBBS\")"
   ]
  },
  {
   "cell_type": "code",
   "execution_count": 7,
   "id": "94c32f4b",
   "metadata": {},
   "outputs": [
    {
     "name": "stdout",
     "output_type": "stream",
     "text": [
      "MBBS\n"
     ]
    }
   ],
   "source": [
    "degree()"
   ]
  },
  {
   "cell_type": "code",
   "execution_count": 8,
   "id": "e0124516",
   "metadata": {},
   "outputs": [],
   "source": [
    "def cgpa():\n",
    "    print(\"3.50\")"
   ]
  },
  {
   "cell_type": "code",
   "execution_count": 9,
   "id": "a7c22d2c",
   "metadata": {},
   "outputs": [
    {
     "name": "stdout",
     "output_type": "stream",
     "text": [
      "3.50\n"
     ]
    }
   ],
   "source": [
    "cgpa()"
   ]
  },
  {
   "cell_type": "code",
   "execution_count": 10,
   "id": "d0617fee",
   "metadata": {},
   "outputs": [],
   "source": [
    "#Function with Parameters \n",
    "\n",
    "def plus_ten(a):\n",
    "    return a + 10 "
   ]
  },
  {
   "cell_type": "code",
   "execution_count": 11,
   "id": "500c0961",
   "metadata": {},
   "outputs": [
    {
     "data": {
      "text/plain": [
       "12"
      ]
     },
     "execution_count": 11,
     "metadata": {},
     "output_type": "execute_result"
    }
   ],
   "source": [
    "plus_ten(2)"
   ]
  },
  {
   "cell_type": "code",
   "execution_count": 12,
   "id": "b0f37cf0",
   "metadata": {},
   "outputs": [
    {
     "data": {
      "text/plain": [
       "20"
      ]
     },
     "execution_count": 12,
     "metadata": {},
     "output_type": "execute_result"
    }
   ],
   "source": [
    "plus_ten(10)"
   ]
  },
  {
   "cell_type": "code",
   "execution_count": 13,
   "id": "5c8bb158",
   "metadata": {},
   "outputs": [
    {
     "data": {
      "text/plain": [
       "510"
      ]
     },
     "execution_count": 13,
     "metadata": {},
     "output_type": "execute_result"
    }
   ],
   "source": [
    "plus_ten(500)"
   ]
  },
  {
   "cell_type": "code",
   "execution_count": 14,
   "id": "e278e6fe",
   "metadata": {},
   "outputs": [],
   "source": [
    "def plus_ten(total):\n",
    "    return total + 10"
   ]
  },
  {
   "cell_type": "code",
   "execution_count": 15,
   "id": "ef22bd2b",
   "metadata": {},
   "outputs": [
    {
     "data": {
      "text/plain": [
       "360"
      ]
     },
     "execution_count": 15,
     "metadata": {},
     "output_type": "execute_result"
    }
   ],
   "source": [
    "plus_ten(350)"
   ]
  },
  {
   "cell_type": "code",
   "execution_count": 16,
   "id": "8661bb9f",
   "metadata": {},
   "outputs": [
    {
     "data": {
      "text/plain": [
       "428"
      ]
     },
     "execution_count": 16,
     "metadata": {},
     "output_type": "execute_result"
    }
   ],
   "source": [
    "plus_ten(418)"
   ]
  },
  {
   "cell_type": "code",
   "execution_count": 17,
   "id": "f32d7a86",
   "metadata": {},
   "outputs": [
    {
     "data": {
      "text/plain": [
       "555"
      ]
     },
     "execution_count": 17,
     "metadata": {},
     "output_type": "execute_result"
    }
   ],
   "source": [
    "plus_ten(545)"
   ]
  },
  {
   "cell_type": "code",
   "execution_count": 18,
   "id": "2d2af3bb",
   "metadata": {},
   "outputs": [],
   "source": [
    "def interest_rate(current):\n",
    "    return current + 0.50"
   ]
  },
  {
   "cell_type": "code",
   "execution_count": 19,
   "id": "656bd04d",
   "metadata": {},
   "outputs": [
    {
     "data": {
      "text/plain": [
       "3.0"
      ]
     },
     "execution_count": 19,
     "metadata": {},
     "output_type": "execute_result"
    }
   ],
   "source": [
    "interest_rate(2.50)"
   ]
  },
  {
   "cell_type": "code",
   "execution_count": 20,
   "id": "02836057",
   "metadata": {},
   "outputs": [
    {
     "data": {
      "text/plain": [
       "2.799"
      ]
     },
     "execution_count": 20,
     "metadata": {},
     "output_type": "execute_result"
    }
   ],
   "source": [
    "interest_rate(2.299)"
   ]
  },
  {
   "cell_type": "code",
   "execution_count": 21,
   "id": "da5f5290",
   "metadata": {},
   "outputs": [
    {
     "data": {
      "text/plain": [
       "3.6"
      ]
     },
     "execution_count": 21,
     "metadata": {},
     "output_type": "execute_result"
    }
   ],
   "source": [
    "interest_rate(3.10)"
   ]
  },
  {
   "cell_type": "code",
   "execution_count": 22,
   "id": "d68d227a",
   "metadata": {},
   "outputs": [],
   "source": [
    "def heart_beat(current):\n",
    "    return current + 1.50"
   ]
  },
  {
   "cell_type": "code",
   "execution_count": 23,
   "id": "87caa978",
   "metadata": {},
   "outputs": [
    {
     "data": {
      "text/plain": [
       "61.5"
      ]
     },
     "execution_count": 23,
     "metadata": {},
     "output_type": "execute_result"
    }
   ],
   "source": [
    "heart_beat(60)"
   ]
  },
  {
   "cell_type": "code",
   "execution_count": 24,
   "id": "d70cae95",
   "metadata": {},
   "outputs": [
    {
     "data": {
      "text/plain": [
       "84.0"
      ]
     },
     "execution_count": 24,
     "metadata": {},
     "output_type": "execute_result"
    }
   ],
   "source": [
    "heart_beat(82.50)"
   ]
  },
  {
   "cell_type": "code",
   "execution_count": 25,
   "id": "63be4540",
   "metadata": {},
   "outputs": [
    {
     "data": {
      "text/plain": [
       "111.5"
      ]
     },
     "execution_count": 25,
     "metadata": {},
     "output_type": "execute_result"
    }
   ],
   "source": [
    "heart_beat(110)"
   ]
  },
  {
   "cell_type": "code",
   "execution_count": null,
   "id": "30025967",
   "metadata": {},
   "outputs": [],
   "source": []
  },
  {
   "cell_type": "code",
   "execution_count": 26,
   "id": "b00e3860",
   "metadata": {},
   "outputs": [],
   "source": [
    "#Function within Functions \n",
    "\n",
    "def salary(w_hours): \n",
    "    return w_hours * 25 \n",
    "\n",
    "def with_bonus(w_hours):\n",
    "    return salary(w_hours) + 50"
   ]
  },
  {
   "cell_type": "code",
   "execution_count": 27,
   "id": "9383bc81",
   "metadata": {},
   "outputs": [
    {
     "data": {
      "text/plain": [
       "(200, 250)"
      ]
     },
     "execution_count": 27,
     "metadata": {},
     "output_type": "execute_result"
    }
   ],
   "source": [
    "salary(8), with_bonus(8)"
   ]
  },
  {
   "cell_type": "code",
   "execution_count": 28,
   "id": "934a0c68",
   "metadata": {},
   "outputs": [],
   "source": [
    "def interest_rate(current):\n",
    "    return current * 0.25 \n",
    "\n",
    "def under_recession(current):\n",
    "    return interest_rate(current) - 0.37"
   ]
  },
  {
   "cell_type": "code",
   "execution_count": 29,
   "id": "4db144ee",
   "metadata": {},
   "outputs": [
    {
     "data": {
      "text/plain": [
       "(0.75, 0.38)"
      ]
     },
     "execution_count": 29,
     "metadata": {},
     "output_type": "execute_result"
    }
   ],
   "source": [
    "interest_rate(3), under_recession(3)"
   ]
  },
  {
   "cell_type": "code",
   "execution_count": 56,
   "id": "72777e1f",
   "metadata": {},
   "outputs": [],
   "source": [
    "def mobile_charge(current):\n",
    "    return current * 15\n",
    "\n",
    "def emergency(current):\n",
    "    return mobile_charge (current) * 30"
   ]
  },
  {
   "cell_type": "code",
   "execution_count": 57,
   "id": "daed8fbc",
   "metadata": {},
   "outputs": [
    {
     "data": {
      "text/plain": [
       "(1800, 81000)"
      ]
     },
     "execution_count": 57,
     "metadata": {},
     "output_type": "execute_result"
    }
   ],
   "source": [
    "mobile_charge(120), emergency(180)"
   ]
  },
  {
   "cell_type": "code",
   "execution_count": 36,
   "id": "3bbf0dcc",
   "metadata": {},
   "outputs": [],
   "source": [
    "# Functions with Conditional Statements \n",
    "\n",
    "def add_10(m):\n",
    "    if m >= 100: \n",
    "        m = m + 10 \n",
    "        return m\n",
    "    else: \n",
    "        return \"Save More!\""
   ]
  },
  {
   "cell_type": "code",
   "execution_count": 37,
   "id": "6cc36b15",
   "metadata": {},
   "outputs": [
    {
     "data": {
      "text/plain": [
       "'Save More!'"
      ]
     },
     "execution_count": 37,
     "metadata": {},
     "output_type": "execute_result"
    }
   ],
   "source": [
    "add_10(90)"
   ]
  },
  {
   "cell_type": "code",
   "execution_count": 38,
   "id": "8f192ae0",
   "metadata": {},
   "outputs": [
    {
     "data": {
      "text/plain": [
       "130"
      ]
     },
     "execution_count": 38,
     "metadata": {},
     "output_type": "execute_result"
    }
   ],
   "source": [
    "add_10(120)"
   ]
  },
  {
   "cell_type": "code",
   "execution_count": 46,
   "id": "09c281d9",
   "metadata": {},
   "outputs": [],
   "source": [
    "def apple(m):\n",
    "    if m >= 1000:  \n",
    "        return \"Sell\"\n",
    "    else: \n",
    "        return \"Hold!\""
   ]
  },
  {
   "cell_type": "code",
   "execution_count": 47,
   "id": "6120ca9f",
   "metadata": {},
   "outputs": [
    {
     "data": {
      "text/plain": [
       "'Hold!'"
      ]
     },
     "execution_count": 47,
     "metadata": {},
     "output_type": "execute_result"
    }
   ],
   "source": [
    "apple(990)"
   ]
  },
  {
   "cell_type": "code",
   "execution_count": 48,
   "id": "1a529e33",
   "metadata": {},
   "outputs": [
    {
     "data": {
      "text/plain": [
       "'Sell'"
      ]
     },
     "execution_count": 48,
     "metadata": {},
     "output_type": "execute_result"
    }
   ],
   "source": [
    "apple(1283.10)"
   ]
  },
  {
   "cell_type": "code",
   "execution_count": 49,
   "id": "b0bd95f9",
   "metadata": {},
   "outputs": [],
   "source": [
    "def hospital_admin(m):\n",
    "    if m >= 180: \n",
    "        return \"Visit Hospital\"\n",
    "    else: \n",
    "        return \"Rest in Home\""
   ]
  },
  {
   "cell_type": "code",
   "execution_count": 50,
   "id": "3b7dda0d",
   "metadata": {},
   "outputs": [
    {
     "data": {
      "text/plain": [
       "'Rest in Home'"
      ]
     },
     "execution_count": 50,
     "metadata": {},
     "output_type": "execute_result"
    }
   ],
   "source": [
    "hospital_admin(170)"
   ]
  },
  {
   "cell_type": "code",
   "execution_count": 51,
   "id": "2cb6b95e",
   "metadata": {},
   "outputs": [
    {
     "data": {
      "text/plain": [
       "'Rest in Home'"
      ]
     },
     "execution_count": 51,
     "metadata": {},
     "output_type": "execute_result"
    }
   ],
   "source": [
    "hospital_admin(115)"
   ]
  },
  {
   "cell_type": "code",
   "execution_count": 52,
   "id": "e51d37d5",
   "metadata": {},
   "outputs": [
    {
     "data": {
      "text/plain": [
       "'Rest in Home'"
      ]
     },
     "execution_count": 52,
     "metadata": {},
     "output_type": "execute_result"
    }
   ],
   "source": [
    "hospital_admin(175)"
   ]
  },
  {
   "cell_type": "code",
   "execution_count": 53,
   "id": "78270aa7",
   "metadata": {},
   "outputs": [
    {
     "data": {
      "text/plain": [
       "'Visit Hospital'"
      ]
     },
     "execution_count": 53,
     "metadata": {},
     "output_type": "execute_result"
    }
   ],
   "source": [
    "hospital_admin(180)"
   ]
  },
  {
   "cell_type": "code",
   "execution_count": 54,
   "id": "9eb1da04",
   "metadata": {},
   "outputs": [
    {
     "data": {
      "text/plain": [
       "'Visit Hospital'"
      ]
     },
     "execution_count": 54,
     "metadata": {},
     "output_type": "execute_result"
    }
   ],
   "source": [
    "hospital_admin(190)"
   ]
  },
  {
   "cell_type": "code",
   "execution_count": null,
   "id": "5bfd500c",
   "metadata": {},
   "outputs": [],
   "source": []
  }
 ],
 "metadata": {
  "kernelspec": {
   "display_name": "Python 3 (ipykernel)",
   "language": "python",
   "name": "python3"
  },
  "language_info": {
   "codemirror_mode": {
    "name": "ipython",
    "version": 3
   },
   "file_extension": ".py",
   "mimetype": "text/x-python",
   "name": "python",
   "nbconvert_exporter": "python",
   "pygments_lexer": "ipython3",
   "version": "3.9.13"
  }
 },
 "nbformat": 4,
 "nbformat_minor": 5
}
